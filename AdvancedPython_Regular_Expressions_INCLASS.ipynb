{
 "cells": [
  {
   "cell_type": "markdown",
   "metadata": {},
   "source": [
    "# Regular Expressions"
   ]
  },
  {
   "cell_type": "markdown",
   "metadata": {},
   "source": [
    "# Tasks today:\n",
    "1) <b>Importing</b> <br>\n",
    "2) <b>Using Regular Expressions</b> <br>\n",
    " &nbsp;&nbsp;&nbsp;&nbsp; a) re.compile() <br>\n",
    " &nbsp;&nbsp;&nbsp;&nbsp; b) re.match() <br>\n",
    " &nbsp;&nbsp;&nbsp;&nbsp; c) re.findall() <br>\n",
    " &nbsp;&nbsp;&nbsp;&nbsp; d) re.search() <br>\n",
    "3) <b>Sets</b> <br>\n",
    " &nbsp;&nbsp;&nbsp;&nbsp; a) Integer Ranges <br>\n",
    " &nbsp;&nbsp;&nbsp;&nbsp; b) Character Ranges <br>\n",
    "4) <b>Counting Occurences</b> <br>\n",
    " &nbsp;&nbsp;&nbsp;&nbsp; a) {x} <br>\n",
    " &nbsp;&nbsp;&nbsp;&nbsp; b) {, x} <br>\n",
    " &nbsp;&nbsp;&nbsp;&nbsp; c) {?} <br>\n",
    " &nbsp;&nbsp;&nbsp;&nbsp; d) {*} <br>\n",
    " &nbsp;&nbsp;&nbsp;&nbsp; e) {+} <br>\n",
    "5) <b>In-Class Exercise #1</b> <br>\n",
    "6) <b>Escaping Characters</b> <br>\n",
    "7) <b>Grouping</b> <br>\n",
    "8) <b>In-Class Exercise #2</b> <br>\n",
    "9) <b>Opening a File</b> <br>\n",
    " &nbsp;&nbsp;&nbsp;&nbsp; a) open() <br>\n",
    " &nbsp;&nbsp;&nbsp;&nbsp; b) with open() <br>\n",
    " &nbsp;&nbsp;&nbsp;&nbsp; c) re.match() <br>\n",
    " &nbsp;&nbsp;&nbsp;&nbsp; d) re.search() <br>\n",
    " &nbsp;&nbsp;&nbsp;&nbsp; e) Store the String in a Variable <br>\n",
    "10) <b>Regex Project</b> <br>"
   ]
  },
  {
   "cell_type": "markdown",
   "metadata": {},
   "source": [
    "### Importing <br>\n",
    "<p>Regular Expressions are universal throughout most programming languages... They are generally imported through the module 're'.</p>"
   ]
  },
  {
   "cell_type": "code",
   "execution_count": 6,
   "metadata": {},
   "outputs": [],
   "source": [
    "# import re\n",
    "import re\n",
    "\n",
    "#the goal is to filter text- pattern recognition"
   ]
  },
  {
   "cell_type": "markdown",
   "metadata": {},
   "source": [
    "### Using Regular Expressions <br>\n",
    "<p>Regular expressions give us the ability to search for patterns within text, strings, files, etc. They serve several uses, such as; security measures, searching, filtering, pattern recognition, and more...</p>"
   ]
  },
  {
   "cell_type": "markdown",
   "metadata": {},
   "source": [
    "##### re.compile()"
   ]
  },
  {
   "cell_type": "code",
   "execution_count": 8,
   "metadata": {},
   "outputs": [
    {
     "name": "stdout",
     "output_type": "stream",
     "text": [
      "<class 're.Pattern'>\n",
      "re.compile('abcd')\n"
     ]
    }
   ],
   "source": [
    "# using compile, predetermines the string to be used in regular expression methods\n",
    "\n",
    "pattern = re.compile(\"abcd\")\n",
    "pattern\n",
    "print(type(pattern))\n",
    "print(pattern)"
   ]
  },
  {
   "cell_type": "markdown",
   "metadata": {},
   "source": [
    "##### re.match()"
   ]
  },
  {
   "cell_type": "code",
   "execution_count": 11,
   "metadata": {},
   "outputs": [
    {
     "name": "stdout",
     "output_type": "stream",
     "text": [
      "<re.Match object; span=(0, 4), match='abcd'>\n",
      "(0, 4)\n"
     ]
    }
   ],
   "source": [
    "#using compile, pre-determines the string to be used in regular expressions\n",
    "#since we have a class object, it has methods (and attributes)\n",
    "\n",
    "match = pattern.match(\"abcd1234\") #only a match if at beginning of string\n",
    "# this could be thsi simple string, or an entire book.\n",
    "print(match)\n",
    "\n",
    "print(match.span()) #tuple\n",
    "\n",
    "\n"
   ]
  },
  {
   "cell_type": "markdown",
   "metadata": {},
   "source": [
    "##### re.findall()"
   ]
  },
  {
   "cell_type": "code",
   "execution_count": 20,
   "metadata": {},
   "outputs": [
    {
     "name": "stdout",
     "output_type": "stream",
     "text": [
      "['abcd', 'abcd', 'abcd']\n"
     ]
    }
   ],
   "source": [
    "finders = pattern.findall(\"123abcd abcd123 abcd abcabc acb\")\n",
    "print(finders)\n",
    "\n",
    "#help module is helpful here"
   ]
  },
  {
   "cell_type": "markdown",
   "metadata": {},
   "source": [
    "##### re.search()"
   ]
  },
  {
   "cell_type": "code",
   "execution_count": 18,
   "metadata": {},
   "outputs": [
    {
     "name": "stdout",
     "output_type": "stream",
     "text": [
      "<re.Match object; span=(12, 16), match='abcd'>\n",
      "abcd\n"
     ]
    }
   ],
   "source": [
    "search = pattern.search(\"3abcd1234\")#works even if not at beginning of string\n",
    "print(search)\n"
   ]
  },
  {
   "cell_type": "code",
   "execution_count": 19,
   "metadata": {},
   "outputs": [
    {
     "name": "stdout",
     "output_type": "stream",
     "text": [
      "<re.Match object; span=(12, 16), match='abcd'>\n",
      "abcd\n"
     ]
    }
   ],
   "source": [
    "rando_string = \"123 123 234 abcdkj abc\"\n",
    "\n",
    "search = pattern.search(rando_string)\n",
    "span = search.span()\n",
    "print(search)\n",
    "print(rando_string[span[0]:span[1]])"
   ]
  },
  {
   "cell_type": "markdown",
   "metadata": {},
   "source": [
    "### Sets <br>\n",
    "<p>The following cells will allow you to use regular expressions to search for certain values within a range such as numbers 1 through 4.</p>"
   ]
  },
  {
   "cell_type": "markdown",
   "metadata": {},
   "source": [
    "##### [a-z] or [A-Z] - any lowercase/uppercase letters from a to z<br/>[^2] - anything that's not 2"
   ]
  },
  {
   "cell_type": "markdown",
   "metadata": {},
   "source": [
    "##### Integer Ranges"
   ]
  },
  {
   "cell_type": "code",
   "execution_count": 23,
   "metadata": {},
   "outputs": [
    {
     "name": "stdout",
     "output_type": "stream",
     "text": [
      "<re.Match object; span=(0, 3), match='673'>\n",
      "['673']\n",
      "<re.Match object; span=(14, 19), match='50311'>\n"
     ]
    }
   ],
   "source": [
    "pattern_int = re.compile(\"[0-7][7-9][0-3]\")\n",
    "\n",
    "rando_nums = pattern_int.search(\"67383\")\n",
    "print(rando_nums)\n",
    "\n",
    "find_randos = pattern_int.findall(\"67383\")\n",
    "print(find_randos)\n",
    "\n",
    "\n",
    "patt_zip = re.compile(\"5031[0-3]\")\n",
    "\n",
    "match2 = patt_zip.search(\"5983983938758850311987\")\n",
    "print(match2)"
   ]
  },
  {
   "cell_type": "markdown",
   "metadata": {},
   "source": [
    "##### Character Ranges"
   ]
  },
  {
   "cell_type": "code",
   "execution_count": 24,
   "metadata": {},
   "outputs": [
    {
     "name": "stdout",
     "output_type": "stream",
     "text": [
      "[]\n",
      "['He', 'Th']\n"
     ]
    }
   ],
   "source": [
    "char_pattern = re.compile(\"[A-Z][a-z]\")\n",
    "\n",
    "found = char_pattern.findall(\"hello there random person!\")\n",
    "print(found)\n",
    "found = char_pattern.findall(\"Hello There random person!\")\n",
    "print(found)"
   ]
  },
  {
   "cell_type": "markdown",
   "metadata": {},
   "source": [
    "### Counting Occurences"
   ]
  },
  {
   "cell_type": "markdown",
   "metadata": {},
   "source": [
    "##### {x} - something that occurs {num_of_times}"
   ]
  },
  {
   "cell_type": "code",
   "execution_count": 27,
   "metadata": {},
   "outputs": [
    {
     "name": "stdout",
     "output_type": "stream",
     "text": [
      "['Oo33']\n"
     ]
    }
   ],
   "source": [
    "char_pattern_count = re.compile(\"[A-Z][a-z][0-3]{2}\")#2 numbers 0-3\n",
    "\n",
    "found_count = char_pattern_count.findall(\"I said HellOo33 to Num33 on the sportsball team\")\n",
    "print(found_count)\n"
   ]
  },
  {
   "cell_type": "markdown",
   "metadata": {},
   "source": [
    "##### {x, x} - something that occurs between x and x times"
   ]
  },
  {
   "cell_type": "code",
   "execution_count": 30,
   "metadata": {},
   "outputs": [
    {
     "name": "stdout",
     "output_type": "stream",
     "text": [
      "['m', 'm', 'm', 'mm', 'mmm', 'mmmm', 'mmmmm']\n"
     ]
    }
   ],
   "source": [
    "random_pattern = re.compile(\"m{1,5}\")#min and max times\n",
    "\n",
    "some_statement = random_pattern.findall(\"This is  some contrived example of a regular expression trying to find m or mm or mmm or mmmm or mmmmm\")\n",
    "print(some_statement)"
   ]
  },
  {
   "cell_type": "code",
   "execution_count": null,
   "metadata": {},
   "outputs": [],
   "source": [
    "#exmple of min\n",
    "# random_pattern = re.compile(\"c{1,}\")"
   ]
  },
  {
   "cell_type": "code",
   "execution_count": null,
   "metadata": {},
   "outputs": [],
   "source": [
    "#example of max\n",
    "# random_pattern = re.compile(\"c{,5}\")"
   ]
  },
  {
   "cell_type": "markdown",
   "metadata": {},
   "source": [
    "##### ? - something that occurs 0 or 1 time"
   ]
  },
  {
   "cell_type": "code",
   "execution_count": 34,
   "metadata": {},
   "outputs": [
    {
     "name": "stdout",
     "output_type": "stream",
     "text": [
      "['Mrs']\n"
     ]
    }
   ],
   "source": [
    "another_pattern = re.compile(\"Mrss?\")# ? = character found 1 or 0 times\n",
    "found_patt = another_pattern.findall(\"Mr. Anderson, Mrs. Anderson, Ms. Anderson?\")\n",
    "\n",
    "print(found_patt)"
   ]
  },
  {
   "cell_type": "markdown",
   "metadata": {},
   "source": [
    "##### * - something that occurs at least 0 times"
   ]
  },
  {
   "cell_type": "code",
   "execution_count": 36,
   "metadata": {},
   "outputs": [
    {
     "name": "stdout",
     "output_type": "stream",
     "text": [
      "['MMMs', 's', 'Ms', 's', 's', 'Ms', 's', 's', 's', 's', 's']\n"
     ]
    }
   ],
   "source": [
    "pattern = re.compile(\"M*s\")\n",
    "found_patt2 = pattern.findall(\"MMMs name is Ms. Smith, this is Mssssss\")\n",
    "print(found_patt2)"
   ]
  },
  {
   "cell_type": "markdown",
   "metadata": {},
   "source": [
    "##### + - something that occurs at least once"
   ]
  },
  {
   "cell_type": "code",
   "execution_count": 37,
   "metadata": {},
   "outputs": [
    {
     "name": "stdout",
     "output_type": "stream",
     "text": [
      "['Ms', 'Ms']\n"
     ]
    }
   ],
   "source": [
    "pattern_again = re.compile(\"M+s\")\n",
    "\n",
    "next_found = pattern_again.findall(\"My name is Ms.Smoth. this is Mssss\")\n",
    "print(next_found)"
   ]
  },
  {
   "cell_type": "markdown",
   "metadata": {},
   "source": [
    "##### In-class exercise 1: \n",
    "\n",
    "Use a regular expression to find every number in the given string"
   ]
  },
  {
   "cell_type": "code",
   "execution_count": 44,
   "metadata": {},
   "outputs": [
    {
     "name": "stdout",
     "output_type": "stream",
     "text": [
      "['10909090', '1', '2']\n"
     ]
    }
   ],
   "source": [
    "# Output: ['10909090','1',2]\n",
    "\n",
    "pick_numbers = re.compile(\"[0-9]{1,9}\")\n",
    "my_string = pick_numbers.findall(\"This string has 10909090 numbers, but it is only 1 string. I hope you solve this 2day.\")\n",
    "print(my_string)\n"
   ]
  },
  {
   "cell_type": "markdown",
   "metadata": {},
   "source": [
    "### Escaping Characters"
   ]
  },
  {
   "cell_type": "markdown",
   "metadata": {},
   "source": [
    "##### \\w - look for any Unicode character<br/>\\W - look for anything that isnt a Unicode character\n",
    "\n",
    "[History on Unicode](http://unicode.org/standard/WhatIsUnicode.html)\n",
    "\n",
    "[More on Unicode Characters](https://en.wikipedia.org/wiki/List_of_Unicode_characters)"
   ]
  },
  {
   "cell_type": "code",
   "execution_count": 49,
   "metadata": {},
   "outputs": [
    {
     "name": "stdout",
     "output_type": "stream",
     "text": [
      "['this', 'is', 'a', 'sentence', 'With', 'an', 'exclamatin', 'mark', 'at', 'the', 'end', '1234']\n",
      "[' ', ' ', ' ', '.  ', ' ', ', ', ' ', ' ', ' ', ' ', '! ']\n"
     ]
    }
   ],
   "source": [
    "pattern1 = re.compile('[\\w]+')\n",
    "pattern2 = re.compile(\"[\\W]+\")\n",
    "\n",
    "found_1 = pattern1.findall(\"this is a sentence.  With an, exclamatin mark at the end! 1234\")\n",
    "found_2 = pattern2.findall(\"this is a sentence.  With an, exclamatin mark at the end! 1234\")\n",
    "\n",
    "print(found_1)\n",
    "print(found_2)"
   ]
  },
  {
   "cell_type": "code",
   "execution_count": 47,
   "metadata": {},
   "outputs": [
    {
     "name": "stdout",
     "output_type": "stream",
     "text": [
      "hey it's a weird example\n"
     ]
    }
   ],
   "source": [
    "# \\n \\t \\b \\\\ #new line, tab, backspace, \n",
    "print(f'hey it\\'s a weird example')"
   ]
  },
  {
   "cell_type": "markdown",
   "metadata": {},
   "source": [
    "##### \\d - look for any digit 0-9<br/>\\D - look for anything that isnt a digit"
   ]
  },
  {
   "cell_type": "code",
   "execution_count": 51,
   "metadata": {},
   "outputs": [
    {
     "name": "stdout",
     "output_type": "stream",
     "text": [
      "[]\n"
     ]
    }
   ],
   "source": [
    "num_pattern = re.compile(\"\\d{1,2}[a-z]{2\")\n",
    "\n",
    "found_date = num_pattern.findall(\"Today is the 6th, in 20days it will be the 26th. 3rd, 1st, 31st\")\n",
    "print(found_date)"
   ]
  },
  {
   "cell_type": "markdown",
   "metadata": {},
   "source": [
    "##### \\s - look for any white space<br/>\\S - look for anything that isnt whitespace"
   ]
  },
  {
   "cell_type": "code",
   "execution_count": 52,
   "metadata": {},
   "outputs": [
    {
     "name": "stdout",
     "output_type": "stream",
     "text": [
      "[' ', ' ', ' ', ' ', ' ']\n",
      "['Are', 'you', 'afraid', 'of', 'the', 'dark']\n",
      "[' ', ' ', ' ', '\\n\\n', ' ', ' ', ' ', ' ', ' ', ' ', ' ', ' ']\n",
      "['This', 'is', 'paragraph', 'Look', 'there', 'was', 'return', 'it', \"'s\", 'still', 'string']\n"
     ]
    }
   ],
   "source": [
    "patt_no_space = re.compile(\"\\S[a-z]+\")\n",
    "patt_space = re.compile(\"\\s+\")\n",
    "\n",
    "found_space =patt_space.findall(\"Are you afraind f the dark?\")\n",
    "found_no_space = patt_no_space.findall(\"Are you afraid of the dark?\")\n",
    "\n",
    "print(found_space)\n",
    "print(found_no_space)\n",
    "\n",
    "paragraph = \"\"\"This is a paragraph!\n",
    "\n",
    "Look, there was a return it's still a string\"\"\"\n",
    "\n",
    "print(patt_space.findall(paragraph))\n",
    "print(patt_no_space.findall(paragraph))"
   ]
  },
  {
   "cell_type": "markdown",
   "metadata": {},
   "source": [
    "##### \\b - look for boundaries or edges of a word<br/>\\B - look for anything that isnt a boundary"
   ]
  },
  {
   "cell_type": "code",
   "execution_count": 57,
   "metadata": {},
   "outputs": [
    {
     "name": "stdout",
     "output_type": "stream",
     "text": [
      "[]\n",
      "['TheCodingTemple']\n",
      "['hello']\n",
      "[]\n"
     ]
    }
   ],
   "source": [
    "pattern_bound = re.compile(r\"\\bTheCodingTemple\\b\")\n",
    "\n",
    "# print(r\"\\bTheCodingTemple\\b\")\n",
    "pattern_bound_none = re.compile(r\"\\BTheCodingTemple\\B\")\n",
    "\n",
    "no_found_bound = pattern_bound_none.findall(\"TheCodingTemple\")\n",
    "found_bound = pattern_bound.findall(\"TheCodingTemple\")\n",
    "\n",
    "print(no_found_bound)\n",
    "print(found_bound)\n",
    "\n",
    "hi_str = \"hello world\"\n",
    "\n",
    "patt11 = re.compile(r\"\\bhello\\b\")\n",
    "patt12 = re.compile(r\"\\Bhello\\B\")\n",
    "\n",
    "print(patt11.findall(hi_str))\n",
    "print(patt12.findall(hi_str))"
   ]
  },
  {
   "cell_type": "markdown",
   "metadata": {},
   "source": [
    "### Grouping"
   ]
  },
  {
   "cell_type": "code",
   "execution_count": 75,
   "metadata": {},
   "outputs": [
    {
     "name": "stdout",
     "output_type": "stream",
     "text": [
      "[('Max', 'Smith'), ('aaron', 'rodgers'), ('Sam', 'Darnold'), ('LeBron', 'James'), ('Micheal', 'Jordan'), ('Kevin', 'Durant'), ('Patrick', 'McCormick')]\n",
      "<re.Match object; span=(0, 9), match='Max Smith'>\n",
      "\n",
      "\n",
      "Max Smith\n",
      "('Max', 'Smith')\n",
      "\n",
      "\t Max\n",
      "\n",
      "\t ('Max', 'Smith')\n",
      "\n",
      "\n",
      "<re.Match object; span=(1, 14), match='aaron rodgers'>\n",
      "\n",
      "\n",
      "aaron rodgers\n",
      "('aaron', 'rodgers')\n",
      "\n",
      "\t aaron\n",
      "\n",
      "\t ('aaron', 'rodgers')\n",
      "\n",
      "\n",
      "<re.Match object; span=(1, 12), match='Sam Darnold'>\n",
      "\n",
      "\n",
      "Sam Darnold\n",
      "('Sam', 'Darnold')\n",
      "\n",
      "\t Sam\n",
      "\n",
      "\t ('Sam', 'Darnold')\n",
      "\n",
      "\n",
      "<re.Match object; span=(0, 12), match='LeBron James'>\n",
      "\n",
      "\n",
      "LeBron James\n",
      "('LeBron', 'James')\n",
      "\n",
      "\t LeBron\n",
      "\n",
      "\t ('LeBron', 'James')\n",
      "\n",
      "\n",
      "<re.Match object; span=(1, 15), match='Micheal Jordan'>\n",
      "\n",
      "\n",
      "Micheal Jordan\n",
      "('Micheal', 'Jordan')\n",
      "\n",
      "\t Micheal\n",
      "\n",
      "\t ('Micheal', 'Jordan')\n",
      "\n",
      "\n",
      "<re.Match object; span=(1, 13), match='Kevin Durant'>\n",
      "\n",
      "\n",
      "Kevin Durant\n",
      "('Kevin', 'Durant')\n",
      "\n",
      "\t Kevin\n",
      "\n",
      "\t ('Kevin', 'Durant')\n",
      "\n",
      "\n",
      "<re.Match object; span=(1, 18), match='Patrick McCormick'>\n",
      "\n",
      "\n",
      "Patrick McCormick\n",
      "('Patrick', 'McCormick')\n",
      "\n",
      "\t Patrick\n",
      "\n",
      "\t ('Patrick', 'McCormick')\n",
      "\n",
      "\n"
     ]
    }
   ],
   "source": [
    "my_string_again = \"Max Smith, aaron rodgers, Sam Darnold,LeBron James, Micheal Jordan, Kevin Durant, Patrick McCormick\"\n",
    "\n",
    "# Group of names Regular Expression Compiler\n",
    "\n",
    "# last_pattern = re.compile(\"[A-Z][a-z]+ [A-Z][a-z]+\")\n",
    "last_pattern = re.compile(\"([A-Za-z][a-zA-Z]+) ([A-Za-z][A-Za-z]+)\")\n",
    "\n",
    "last_found = last_pattern.findall(my_string_again)\n",
    "print(last_found)\n",
    "\n",
    "\n",
    "# print(my_string_again.split(\",\"))\n",
    "for name in my_string_again.split(\",\"):\n",
    "    match = last_pattern.search(name)\n",
    "    print(match)\n",
    "    print(\"\\n\")\n",
    "    \n",
    "    if match:\n",
    "        print(match.group())\n",
    "        print(match.groups())\n",
    "        print(\"\\n\\t\",match.group(1))\n",
    "        print(\"\\n\\t\",match.groups(1))\n",
    "        print(\"\\n\")\n",
    "    else:\n",
    "        print(\"Not a Valid name!!!\")\n",
    "        \n",
    "#                print('\\n\\tEXAMPLE for later use!!!!')\n",
    "#         print(f\"{match.group(1)} / {match.group(2)} - - > {match.groups()} or {match.group()}\")\n"
   ]
  },
  {
   "cell_type": "markdown",
   "metadata": {},
   "source": [
    "##### In-class Exercise 2:\n",
    "\n",
    "Write a function using regular expressions to find the domain name in the given email addresses (and return None for the invalid email addresses)<br><b>HINT: Use '|' for either or</b>"
   ]
  },
  {
   "cell_type": "code",
   "execution_count": 96,
   "metadata": {},
   "outputs": [
    {
     "name": "stdout",
     "output_type": "stream",
     "text": [
      "[]\n",
      "This is not a valid email!\n",
      "pocohontas1776@gmail.com\n",
      "This is not a valid email!\n",
      "yourfavoriteband@g6.org\n",
      "This is not a valid email!\n"
     ]
    }
   ],
   "source": [
    "my_emails = [\"shohat@codingcodingsummit.orgcom\", \"pocohontas1776@gmail.com\", \"helloworld@aol..com\",\n",
    "             \"yourfavoriteband@g6.org\", \"@codingsummit.com\"]\n",
    "\n",
    "# You can also use the $ at the end of your compile expression -- this stops the search\n",
    "\n",
    "#.com or .org --> com|org\n",
    "\n",
    "#Expected output:\n",
    "#None\n",
    "#pocohontas1776@gmail.com\n",
    "#None\n",
    "#yourfavoriteband@g6.org\n",
    "#None\n",
    "\n",
    "email_pattern = re.compile(\"([a-zA-Z0-9]+)@([a-zA-Z0-9]+).(com|org)$\")\n",
    "found_emails=email_pattern.findall(my_emails[4])\n",
    "print(found_emails)\n",
    "\n",
    "for email in my_emails:\n",
    "    pattern = re.compile(\"([a-zA-Z0-9]+)@([a-zA-Z0-9]+).(com|org)$\")\n",
    "    if pattern.match(email):\n",
    "        print(email)\n",
    "    else:\n",
    "        print(\"This is not a valid email!\")"
   ]
  },
  {
   "cell_type": "markdown",
   "metadata": {},
   "source": [
    "### Opening a File <br>\n",
    "<p>Python gives us a couple ways to import files, below are the two used most often.</p>"
   ]
  },
  {
   "cell_type": "markdown",
   "metadata": {},
   "source": [
    "##### open()"
   ]
  },
  {
   "cell_type": "code",
   "execution_count": 98,
   "metadata": {},
   "outputs": [
    {
     "name": "stdout",
     "output_type": "stream",
     "text": [
      "<_io.TextIOWrapper name='names.txt' mode='r' encoding='UTF-8'>\n",
      "Hawkins, Derek\tderek@codingtemple.com\t(555) 555-5555\tTeacher, Coding Temple\t@derekhawkins\n",
      "Zhai, Mo\tmozhai@codingtemple.com\t(555) 555-5554\tTeacher, Coding Temple\n",
      "Johnson, Joe\tjoejohnson@codingtemple.com\t\tJohson, Joe\n",
      "Osterberg, Sven-Erik\tgovernor@norrbotten.co.se\t\tGovernor, Norrbotten\t@sverik\n",
      ", Tim\ttim@killerrabbit.com\t\tEnchanter, Killer Rabbit Cave\n",
      "Butz, Ryan\tryanb@codingtemple.com\t(555) 555-5543\tCEO, Coding Temple\t@ryanbutz\n",
      "Doctor, The\tdoctor+companion@tardis.co.uk\t\tTime Lord, Gallifrey\n",
      "Exampleson, Example\tme@example.com\t555-555-5552\tExample, Example Co.\t@example\n",
      "Pael, Ripal\tripalp@codingtemple.com\t(555) 555-5553\tTeacher, Coding Temple\t@ripalp\n",
      "Vader, Darth\tdarth-vader@empire.gov\t(555) 555-4444\tSith Lord, Galactic Empire\t@darthvader\n",
      "Fernandez de la Vega Sanz, Maria Teresa\tmtfvs@spain.gov\t\tFirst Deputy Prime Minister, Spanish Gov\n",
      "\n"
     ]
    }
   ],
   "source": [
    "f = open(\"names.txt\")\n",
    "print(f)\n",
    "data = f.read()\n",
    "print(data)\n",
    "f.close()#make sure to close file or we might overwrite data"
   ]
  },
  {
   "cell_type": "markdown",
   "metadata": {},
   "source": [
    "##### with open()"
   ]
  },
  {
   "cell_type": "code",
   "execution_count": 99,
   "metadata": {},
   "outputs": [
    {
     "name": "stdout",
     "output_type": "stream",
     "text": [
      "['Hawkins, Derek\\tderek@codingtemple.com\\t(555) 555-5555\\tTeacher, Coding Temple\\t@derekhawkins\\n', 'Zhai, Mo\\tmozhai@codingtemple.com\\t(555) 555-5554\\tTeacher, Coding Temple\\n', 'Johnson, Joe\\tjoejohnson@codingtemple.com\\t\\tJohson, Joe\\n', 'Osterberg, Sven-Erik\\tgovernor@norrbotten.co.se\\t\\tGovernor, Norrbotten\\t@sverik\\n', ', Tim\\ttim@killerrabbit.com\\t\\tEnchanter, Killer Rabbit Cave\\n', 'Butz, Ryan\\tryanb@codingtemple.com\\t(555) 555-5543\\tCEO, Coding Temple\\t@ryanbutz\\n', 'Doctor, The\\tdoctor+companion@tardis.co.uk\\t\\tTime Lord, Gallifrey\\n', 'Exampleson, Example\\tme@example.com\\t555-555-5552\\tExample, Example Co.\\t@example\\n', 'Pael, Ripal\\tripalp@codingtemple.com\\t(555) 555-5553\\tTeacher, Coding Temple\\t@ripalp\\n', 'Vader, Darth\\tdarth-vader@empire.gov\\t(555) 555-4444\\tSith Lord, Galactic Empire\\t@darthvader\\n', 'Fernandez de la Vega Sanz, Maria Teresa\\tmtfvs@spain.gov\\t\\tFirst Deputy Prime Minister, Spanish Gov\\n']\n"
     ]
    }
   ],
   "source": [
    "with open(\"names.txt\") as file:\n",
    "    data = file.readlines()\n",
    "    print(data)"
   ]
  },
  {
   "cell_type": "markdown",
   "metadata": {},
   "source": [
    "##### re.match()"
   ]
  },
  {
   "cell_type": "code",
   "execution_count": 101,
   "metadata": {},
   "outputs": [
    {
     "name": "stdout",
     "output_type": "stream",
     "text": [
      "<re.Match object; span=(0, 2), match='th'>\n",
      "<re.Match object; span=(0, 2), match='th'>\n"
     ]
    }
   ],
   "source": [
    "#instead of doing this\n",
    "\n",
    "pat = re.compile(\"[a-z]{2}\")\n",
    "string = \"this is the string we want to use\"\n",
    "res = pat.match(string)\n",
    "\n",
    "res2 = re.match(r\"[a-z]{2}\", string)# does the same thing as previous line\n",
    "\n",
    "print(res)\n",
    "print(res2)"
   ]
  },
  {
   "cell_type": "markdown",
   "metadata": {},
   "source": [
    "##### re.search()"
   ]
  },
  {
   "cell_type": "code",
   "execution_count": 102,
   "metadata": {},
   "outputs": [
    {
     "name": "stdout",
     "output_type": "stream",
     "text": [
      "<re.Match object; span=(0, 2), match='th'>\n"
     ]
    },
    {
     "ename": "TypeError",
     "evalue": "expected string or bytes-like object",
     "output_type": "error",
     "traceback": [
      "\u001b[0;31m---------------------------------------------------------------------------\u001b[0m",
      "\u001b[0;31mTypeError\u001b[0m                                 Traceback (most recent call last)",
      "\u001b[0;32m/var/folders/b3/pw450tdd0pj60w2bbdnyqd9w0000gn/T/ipykernel_30304/3774870297.py\u001b[0m in \u001b[0;36m<module>\u001b[0;34m\u001b[0m\n\u001b[1;32m      8\u001b[0m \u001b[0;34m\u001b[0m\u001b[0m\n\u001b[1;32m      9\u001b[0m \u001b[0mprint\u001b[0m\u001b[0;34m(\u001b[0m\u001b[0mres3\u001b[0m\u001b[0;34m)\u001b[0m\u001b[0;34m\u001b[0m\u001b[0;34m\u001b[0m\u001b[0m\n\u001b[0;32m---> 10\u001b[0;31m \u001b[0mprint\u001b[0m\u001b[0;34m(\u001b[0m\u001b[0mre\u001b[0m\u001b[0;34m.\u001b[0m\u001b[0msearch\u001b[0m\u001b[0;34m(\u001b[0m\u001b[0;34mr\"tryanb@codingtemple.com\"\u001b[0m\u001b[0;34m,\u001b[0m \u001b[0mdata\u001b[0m\u001b[0;34m)\u001b[0m\u001b[0;34m)\u001b[0m\u001b[0;34m\u001b[0m\u001b[0;34m\u001b[0m\u001b[0m\n\u001b[0m",
      "\u001b[0;32m/opt/anaconda3/lib/python3.9/re.py\u001b[0m in \u001b[0;36msearch\u001b[0;34m(pattern, string, flags)\u001b[0m\n\u001b[1;32m    199\u001b[0m     \"\"\"Scan through string looking for a match to the pattern, returning\n\u001b[1;32m    200\u001b[0m     a Match object, or None if no match was found.\"\"\"\n\u001b[0;32m--> 201\u001b[0;31m     \u001b[0;32mreturn\u001b[0m \u001b[0m_compile\u001b[0m\u001b[0;34m(\u001b[0m\u001b[0mpattern\u001b[0m\u001b[0;34m,\u001b[0m \u001b[0mflags\u001b[0m\u001b[0;34m)\u001b[0m\u001b[0;34m.\u001b[0m\u001b[0msearch\u001b[0m\u001b[0;34m(\u001b[0m\u001b[0mstring\u001b[0m\u001b[0;34m)\u001b[0m\u001b[0;34m\u001b[0m\u001b[0;34m\u001b[0m\u001b[0m\n\u001b[0m\u001b[1;32m    202\u001b[0m \u001b[0;34m\u001b[0m\u001b[0m\n\u001b[1;32m    203\u001b[0m \u001b[0;32mdef\u001b[0m \u001b[0msub\u001b[0m\u001b[0;34m(\u001b[0m\u001b[0mpattern\u001b[0m\u001b[0;34m,\u001b[0m \u001b[0mrepl\u001b[0m\u001b[0;34m,\u001b[0m \u001b[0mstring\u001b[0m\u001b[0;34m,\u001b[0m \u001b[0mcount\u001b[0m\u001b[0;34m=\u001b[0m\u001b[0;36m0\u001b[0m\u001b[0;34m,\u001b[0m \u001b[0mflags\u001b[0m\u001b[0;34m=\u001b[0m\u001b[0;36m0\u001b[0m\u001b[0;34m)\u001b[0m\u001b[0;34m:\u001b[0m\u001b[0;34m\u001b[0m\u001b[0;34m\u001b[0m\u001b[0m\n",
      "\u001b[0;31mTypeError\u001b[0m: expected string or bytes-like object"
     ]
    }
   ],
   "source": [
    "#same as above!!!\n",
    "\n",
    "\n",
    "string = \"this is the string we want to use\"\n",
    "\n",
    "res3 = re.search(r\"[a-z]{2}\", string)# does the same thing as previous line\n",
    "\n",
    "\n",
    "print(res3)\n",
    "print(data)\n",
    "# print(re.search(r\"tryanb@codingtemple.com\", data))"
   ]
  },
  {
   "cell_type": "markdown",
   "metadata": {},
   "source": [
    "##### Store the String to a Variable"
   ]
  },
  {
   "cell_type": "code",
   "execution_count": 104,
   "metadata": {},
   "outputs": [
    {
     "name": "stdout",
     "output_type": "stream",
     "text": [
      "what would you like to search for? 555\n",
      "I found your data!!! ['555', '555', '555', '555', '555', '555', '555', '555', '555', '555', '555', '555', '555', '555', '555', '555']\n"
     ]
    }
   ],
   "source": [
    "with open(\"names.txt\") as f:\n",
    "    data =f.read()\n",
    "\n",
    "answer = input(\"what would you like to search for? \")\n",
    "\n",
    "found = re.findall(answer, data)\n",
    "\n",
    "if found:\n",
    "    print(f\"I found your data!!! {found}\")\n",
    "else:\n",
    "    print(\"nope, could not find it!\")"
   ]
  },
  {
   "cell_type": "markdown",
   "metadata": {},
   "source": [
    "### In-Class Exercise #3 <br>\n",
    "<p>Print each persons name and twitter handle, using groups, should look like:</p>\n",
    "<p>==============<br>\n",
    "   Full Name / Twitter<br>\n",
    "   ==============</p>\n",
    "Derek Hawkins / @derekhawkins\n",
    "\n",
    " Erik Sven-Osterberg / @sverik\n",
    "\n",
    " Ryan Butz / @ryanbutz\n",
    "\n",
    " Example Exampleson / @example\n",
    "\n",
    " Ripal Pael / @ripalp\n",
    "\n",
    " Darth Vader / @darthvader"
   ]
  },
  {
   "cell_type": "code",
   "execution_count": 38,
   "metadata": {
    "scrolled": true
   },
   "outputs": [
    {
     "name": "stdout",
     "output_type": "stream",
     "text": [
      "[('Ripal', 'Pael', '', 'r')]\n",
      "Derek Hawkins/@derekhawkins\n",
      "Erik Sven-Osterberg/@sverik\n",
      "Ryan Butz/@ryanbuts\n",
      "Example Exampleson/@example\n",
      "Ripal Pael/@ripalp\n",
      "Darth Vader/@darthvader\n"
     ]
    }
   ],
   "source": [
    "import re\n",
    "#extra credit\n",
    "\n",
    "person_twitter = [\"Derek Hawkins/@derekhawkins\", \"Erik Sven-Osterberg/@sverik\", \"Ryan Butz/@ryanbuts\", \"Example Exampleson/@example\", \"Ripal Pael/@ripalp\", \"Darth Vader/@darthvader\"]\n",
    "\n",
    "twitter_pattern = re.compile(\"([A-Za-z]+) ([A-Za-z]+)?([-A-Za-z]*)/@([a-z])\")\n",
    "found_twitter=twitter_pattern.findall(person_twitter[4])\n",
    "print(found_twitter)\n",
    "\n",
    "for twitter in person_twitter:\n",
    "    pattern = re.compile(\"([A-Za-z]+) ([A-Za-z]+)?([-A-Za-z]*)/@([a-z])\")\n",
    "    if pattern.match(twitter):\n",
    "        print(twitter)\n",
    "    else:\n",
    "        print(\"This is not a valid email!\")"
   ]
  },
  {
   "cell_type": "markdown",
   "metadata": {},
   "source": [
    "### Regex project\n",
    "\n",
    "Use python to read the file regex_test.txt and print the last name on each line using regular expressions and groups (return None for names with no first and last name, or names that aren't properly capitalized)\n",
    "##### Hint: use with open() and readlines()"
   ]
  },
  {
   "cell_type": "code",
   "execution_count": 3,
   "metadata": {},
   "outputs": [
    {
     "data": {
      "text/plain": [
       "'\\nExpected Output\\nAbraham Lincoln\\nAndrew P Garfield\\nConnor Milliken\\nJordan Alexander Williams\\nNone\\nNone\\n'"
      ]
     },
     "execution_count": 3,
     "metadata": {},
     "output_type": "execute_result"
    }
   ],
   "source": [
    "\"\"\"\n",
    "Expected Output\n",
    "Abraham Lincoln\n",
    "Andrew P Garfield\n",
    "Connor Milliken\n",
    "Jordan Alexander Williams\n",
    "None\n",
    "None\n",
    "\"\"\"\n",
    "#regex101.com"
   ]
  },
  {
   "cell_type": "code",
   "execution_count": 1,
   "metadata": {},
   "outputs": [],
   "source": []
  },
  {
   "cell_type": "code",
   "execution_count": null,
   "metadata": {},
   "outputs": [],
   "source": []
  },
  {
   "cell_type": "code",
   "execution_count": 34,
   "metadata": {},
   "outputs": [
    {
     "name": "stdout",
     "output_type": "stream",
     "text": [
      "Abraham Lincoln\n",
      "Andrew P Garfield\n",
      "Connor Milliken\n",
      "Jordan Alexander Williams\n",
      "None\n",
      "None\n"
     ]
    }
   ],
   "source": [
    "import re\n",
    "with open(\"regex_test.txt\") as file:\n",
    "    data = file.readlines()\n",
    "    \n",
    "    names_pattern = re.compile(\"([A-Za-z]+) ([A-Z][a-z]*) ?([A-Za-z]*)\")\n",
    "    name_found = names_pattern.findall(data[5])\n",
    "\n",
    "\n",
    "for name in data:\n",
    "    match = names_pattern.search(name)\n",
    "\n",
    "    if match:\n",
    "        print(match.group())\n",
    "    else:\n",
    "        print(\"None\")\n",
    "\n"
   ]
  },
  {
   "cell_type": "code",
   "execution_count": null,
   "metadata": {},
   "outputs": [],
   "source": []
  }
 ],
 "metadata": {
  "kernelspec": {
   "display_name": "Python 3 (ipykernel)",
   "language": "python",
   "name": "python3"
  },
  "language_info": {
   "codemirror_mode": {
    "name": "ipython",
    "version": 3
   },
   "file_extension": ".py",
   "mimetype": "text/x-python",
   "name": "python",
   "nbconvert_exporter": "python",
   "pygments_lexer": "ipython3",
   "version": "3.9.13"
  }
 },
 "nbformat": 4,
 "nbformat_minor": 2
}
